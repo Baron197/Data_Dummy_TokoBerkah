{
 "cells": [
  {
   "cell_type": "code",
   "execution_count": 1,
   "metadata": {},
   "outputs": [],
   "source": [
    "import pandas as pd\n",
    "import numpy as np\n",
    "import datetime as dt\n",
    "from numpy.random import randint"
   ]
  },
  {
   "cell_type": "code",
   "execution_count": 2,
   "metadata": {},
   "outputs": [
    {
     "data": {
      "text/plain": [
       "[[1, 'Toko 1', 'Alamat 1', 7395, datetime.datetime(2016, 1, 4, 0, 0)],\n",
       " [2, 'Toko 2', 'Alamat 2', 6507, datetime.datetime(2016, 5, 27, 0, 0)],\n",
       " [3, 'Toko 3', 'Alamat 3', 2504, datetime.datetime(2016, 8, 7, 0, 0)],\n",
       " [4, 'Toko 4', 'Alamat 4', 3965, datetime.datetime(2015, 4, 13, 0, 0)],\n",
       " [5, 'Toko 5', 'Alamat 5', 4271, datetime.datetime(2015, 10, 14, 0, 0)],\n",
       " [6, 'Toko 6', 'Alamat 6', 7284, datetime.datetime(2018, 6, 21, 0, 0)],\n",
       " [7, 'Toko 7', 'Alamat 7', 2680, datetime.datetime(2016, 7, 8, 0, 0)],\n",
       " [8, 'Toko 8', 'Alamat 8', 9524, datetime.datetime(2015, 8, 20, 0, 0)],\n",
       " [9, 'Toko 9', 'Alamat 9', 7203, datetime.datetime(2017, 4, 12, 0, 0)],\n",
       " [10, 'Toko 10', 'Alamat 10', 6149, datetime.datetime(2016, 1, 12, 0, 0)]]"
      ]
     },
     "execution_count": 2,
     "metadata": {},
     "output_type": "execute_result"
    }
   ],
   "source": [
    "dataToko = []\n",
    "for num in range(1,11) :\n",
    "    dataToko.append([num, \n",
    "                     'Toko ' + str(num), \n",
    "                     'Alamat ' + str(num),\n",
    "                    randint(1000,10001),\n",
    "                    dt.datetime(randint(2015,2019),randint(1,13),randint(1,28))])\n",
    "dataToko"
   ]
  },
  {
   "cell_type": "code",
   "execution_count": 3,
   "metadata": {},
   "outputs": [
    {
     "data": {
      "text/html": [
       "<div>\n",
       "<style scoped>\n",
       "    .dataframe tbody tr th:only-of-type {\n",
       "        vertical-align: middle;\n",
       "    }\n",
       "\n",
       "    .dataframe tbody tr th {\n",
       "        vertical-align: top;\n",
       "    }\n",
       "\n",
       "    .dataframe thead th {\n",
       "        text-align: right;\n",
       "    }\n",
       "</style>\n",
       "<table border=\"1\" class=\"dataframe\">\n",
       "  <thead>\n",
       "    <tr style=\"text-align: right;\">\n",
       "      <th></th>\n",
       "      <th>id</th>\n",
       "      <th>nama</th>\n",
       "      <th>alamat</th>\n",
       "      <th>income</th>\n",
       "      <th>tanggalBerdiri</th>\n",
       "    </tr>\n",
       "  </thead>\n",
       "  <tbody>\n",
       "    <tr>\n",
       "      <th>0</th>\n",
       "      <td>1</td>\n",
       "      <td>Toko 1</td>\n",
       "      <td>Alamat 1</td>\n",
       "      <td>7395</td>\n",
       "      <td>2016-01-04</td>\n",
       "    </tr>\n",
       "    <tr>\n",
       "      <th>1</th>\n",
       "      <td>2</td>\n",
       "      <td>Toko 2</td>\n",
       "      <td>Alamat 2</td>\n",
       "      <td>6507</td>\n",
       "      <td>2016-05-27</td>\n",
       "    </tr>\n",
       "    <tr>\n",
       "      <th>2</th>\n",
       "      <td>3</td>\n",
       "      <td>Toko 3</td>\n",
       "      <td>Alamat 3</td>\n",
       "      <td>2504</td>\n",
       "      <td>2016-08-07</td>\n",
       "    </tr>\n",
       "    <tr>\n",
       "      <th>3</th>\n",
       "      <td>4</td>\n",
       "      <td>Toko 4</td>\n",
       "      <td>Alamat 4</td>\n",
       "      <td>3965</td>\n",
       "      <td>2015-04-13</td>\n",
       "    </tr>\n",
       "    <tr>\n",
       "      <th>4</th>\n",
       "      <td>5</td>\n",
       "      <td>Toko 5</td>\n",
       "      <td>Alamat 5</td>\n",
       "      <td>4271</td>\n",
       "      <td>2015-10-14</td>\n",
       "    </tr>\n",
       "  </tbody>\n",
       "</table>\n",
       "</div>"
      ],
      "text/plain": [
       "   id    nama    alamat  income tanggalBerdiri\n",
       "0   1  Toko 1  Alamat 1    7395     2016-01-04\n",
       "1   2  Toko 2  Alamat 2    6507     2016-05-27\n",
       "2   3  Toko 3  Alamat 3    2504     2016-08-07\n",
       "3   4  Toko 4  Alamat 4    3965     2015-04-13\n",
       "4   5  Toko 5  Alamat 5    4271     2015-10-14"
      ]
     },
     "execution_count": 3,
     "metadata": {},
     "output_type": "execute_result"
    }
   ],
   "source": [
    "dfToko = pd.DataFrame(data=dataToko, columns=['id','nama','alamat','income','tanggalBerdiri'])\n",
    "dfToko.head()"
   ]
  }
 ],
 "metadata": {
  "kernelspec": {
   "display_name": "Python 3",
   "language": "python",
   "name": "python3"
  },
  "language_info": {
   "codemirror_mode": {
    "name": "ipython",
    "version": 3
   },
   "file_extension": ".py",
   "mimetype": "text/x-python",
   "name": "python",
   "nbconvert_exporter": "python",
   "pygments_lexer": "ipython3",
   "version": "3.6.5"
  }
 },
 "nbformat": 4,
 "nbformat_minor": 2
}
