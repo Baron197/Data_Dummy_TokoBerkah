{
 "cells": [
  {
   "cell_type": "code",
   "execution_count": 1,
   "metadata": {},
   "outputs": [],
   "source": [
    "import pandas as pd\n",
    "import numpy as np\n",
    "import datetime\n",
    "\n",
    "np.random.seed(56)"
   ]
  },
  {
   "cell_type": "code",
   "execution_count": 2,
   "metadata": {},
   "outputs": [
    {
     "data": {
      "text/html": [
       "<div>\n",
       "<style scoped>\n",
       "    .dataframe tbody tr th:only-of-type {\n",
       "        vertical-align: middle;\n",
       "    }\n",
       "\n",
       "    .dataframe tbody tr th {\n",
       "        vertical-align: top;\n",
       "    }\n",
       "\n",
       "    .dataframe thead th {\n",
       "        text-align: right;\n",
       "    }\n",
       "</style>\n",
       "<table border=\"1\" class=\"dataframe\">\n",
       "  <thead>\n",
       "    <tr style=\"text-align: right;\">\n",
       "      <th></th>\n",
       "      <th>id</th>\n",
       "      <th>nama</th>\n",
       "    </tr>\n",
       "  </thead>\n",
       "  <tbody>\n",
       "    <tr>\n",
       "      <th>0</th>\n",
       "      <td>1</td>\n",
       "      <td>Jakarta</td>\n",
       "    </tr>\n",
       "    <tr>\n",
       "      <th>1</th>\n",
       "      <td>2</td>\n",
       "      <td>Tangerang</td>\n",
       "    </tr>\n",
       "    <tr>\n",
       "      <th>2</th>\n",
       "      <td>3</td>\n",
       "      <td>Bandung</td>\n",
       "    </tr>\n",
       "    <tr>\n",
       "      <th>3</th>\n",
       "      <td>4</td>\n",
       "      <td>Semarang</td>\n",
       "    </tr>\n",
       "    <tr>\n",
       "      <th>4</th>\n",
       "      <td>5</td>\n",
       "      <td>Denpasar</td>\n",
       "    </tr>\n",
       "    <tr>\n",
       "      <th>5</th>\n",
       "      <td>6</td>\n",
       "      <td>Surabaya</td>\n",
       "    </tr>\n",
       "  </tbody>\n",
       "</table>\n",
       "</div>"
      ],
      "text/plain": [
       "   id       nama\n",
       "0   1    Jakarta\n",
       "1   2  Tangerang\n",
       "2   3    Bandung\n",
       "3   4   Semarang\n",
       "4   5   Denpasar\n",
       "5   6   Surabaya"
      ]
     },
     "execution_count": 2,
     "metadata": {},
     "output_type": "execute_result"
    }
   ],
   "source": [
    "dfKota = pd.DataFrame(data=[[1, 'Jakarta'], \n",
    "                       [2, 'Tangerang'], \n",
    "                       [3,'Bandung'],\n",
    "                       [4,'Semarang'],\n",
    "                       [5,'Denpasar'],\n",
    "                       [6,'Surabaya']], columns=['id','nama'])\n",
    "dfKota"
   ]
  },
  {
   "cell_type": "code",
   "execution_count": 3,
   "metadata": {},
   "outputs": [],
   "source": [
    "dataToko = []\n",
    "def GenerateKota() :\n",
    "    randNum = np.random.randint(1,11)\n",
    "    if(randNum < 4) :\n",
    "        return 1\n",
    "    elif(randNum < 7) :\n",
    "        return 2\n",
    "    elif(randNum == 7) :\n",
    "        return 3\n",
    "    elif(randNum == 8) :\n",
    "        return 4\n",
    "    elif(randNum == 9) :\n",
    "        return 5\n",
    "    elif(randNum == 10) :\n",
    "        return 6"
   ]
  },
  {
   "cell_type": "code",
   "execution_count": 4,
   "metadata": {},
   "outputs": [
    {
     "data": {
      "text/html": [
       "<div>\n",
       "<style scoped>\n",
       "    .dataframe tbody tr th:only-of-type {\n",
       "        vertical-align: middle;\n",
       "    }\n",
       "\n",
       "    .dataframe tbody tr th {\n",
       "        vertical-align: top;\n",
       "    }\n",
       "\n",
       "    .dataframe thead th {\n",
       "        text-align: right;\n",
       "    }\n",
       "</style>\n",
       "<table border=\"1\" class=\"dataframe\">\n",
       "  <thead>\n",
       "    <tr style=\"text-align: right;\">\n",
       "      <th></th>\n",
       "      <th>id</th>\n",
       "      <th>nama</th>\n",
       "      <th>kotaId</th>\n",
       "      <th>alamat</th>\n",
       "      <th>totalIncome</th>\n",
       "      <th>tanggalBerdiri</th>\n",
       "    </tr>\n",
       "  </thead>\n",
       "  <tbody>\n",
       "    <tr>\n",
       "      <th>0</th>\n",
       "      <td>1</td>\n",
       "      <td>Toko 1</td>\n",
       "      <td>2</td>\n",
       "      <td>Alamat 1</td>\n",
       "      <td>3532</td>\n",
       "      <td>2018-01-03</td>\n",
       "    </tr>\n",
       "    <tr>\n",
       "      <th>1</th>\n",
       "      <td>2</td>\n",
       "      <td>Toko 2</td>\n",
       "      <td>6</td>\n",
       "      <td>Alamat 2</td>\n",
       "      <td>1087</td>\n",
       "      <td>2017-05-26</td>\n",
       "    </tr>\n",
       "    <tr>\n",
       "      <th>2</th>\n",
       "      <td>3</td>\n",
       "      <td>Toko 3</td>\n",
       "      <td>4</td>\n",
       "      <td>Alamat 3</td>\n",
       "      <td>5975</td>\n",
       "      <td>2016-09-13</td>\n",
       "    </tr>\n",
       "    <tr>\n",
       "      <th>3</th>\n",
       "      <td>4</td>\n",
       "      <td>Toko 4</td>\n",
       "      <td>1</td>\n",
       "      <td>Alamat 4</td>\n",
       "      <td>4083</td>\n",
       "      <td>2017-01-22</td>\n",
       "    </tr>\n",
       "    <tr>\n",
       "      <th>4</th>\n",
       "      <td>5</td>\n",
       "      <td>Toko 5</td>\n",
       "      <td>3</td>\n",
       "      <td>Alamat 5</td>\n",
       "      <td>1929</td>\n",
       "      <td>2016-11-06</td>\n",
       "    </tr>\n",
       "  </tbody>\n",
       "</table>\n",
       "</div>"
      ],
      "text/plain": [
       "   id    nama  kotaId    alamat  totalIncome tanggalBerdiri\n",
       "0   1  Toko 1       2  Alamat 1         3532     2018-01-03\n",
       "1   2  Toko 2       6  Alamat 2         1087     2017-05-26\n",
       "2   3  Toko 3       4  Alamat 3         5975     2016-09-13\n",
       "3   4  Toko 4       1  Alamat 4         4083     2017-01-22\n",
       "4   5  Toko 5       3  Alamat 5         1929     2016-11-06"
      ]
     },
     "execution_count": 4,
     "metadata": {},
     "output_type": "execute_result"
    }
   ],
   "source": [
    "for num in range(1,101) :\n",
    "    dataToko.append([num, \n",
    "                     'Toko ' + str(num), \n",
    "                     GenerateKota(), \n",
    "                     'Alamat ' + str(num), \n",
    "                     np.random.randint(1000,10001),\n",
    "                    datetime.datetime(np.random.randint(2015,2019), np.random.randint(1,13), np.random.randint(1,28))])\n",
    "    \n",
    "dfToko = pd.DataFrame(data=dataToko,columns=['id','nama','kotaId','alamat','totalIncome','tanggalBerdiri'])\n",
    "dfToko.head()"
   ]
  },
  {
   "cell_type": "code",
   "execution_count": 5,
   "metadata": {},
   "outputs": [
    {
     "name": "stdout",
     "output_type": "stream",
     "text": [
      "<class 'pandas.core.frame.DataFrame'>\n",
      "RangeIndex: 100 entries, 0 to 99\n",
      "Data columns (total 6 columns):\n",
      "id                100 non-null int64\n",
      "nama              100 non-null object\n",
      "kotaId            100 non-null int64\n",
      "alamat            100 non-null object\n",
      "totalIncome       100 non-null int64\n",
      "tanggalBerdiri    100 non-null datetime64[ns]\n",
      "dtypes: datetime64[ns](1), int64(3), object(2)\n",
      "memory usage: 4.8+ KB\n"
     ]
    }
   ],
   "source": [
    "dfToko.info()"
   ]
  },
  {
   "cell_type": "code",
   "execution_count": 6,
   "metadata": {},
   "outputs": [
    {
     "data": {
      "text/plain": [
       "2    28\n",
       "1    26\n",
       "5    13\n",
       "4    12\n",
       "3    11\n",
       "6    10\n",
       "Name: kotaId, dtype: int64"
      ]
     },
     "execution_count": 6,
     "metadata": {},
     "output_type": "execute_result"
    }
   ],
   "source": [
    "dfToko['kotaId'].value_counts()"
   ]
  },
  {
   "cell_type": "code",
   "execution_count": 7,
   "metadata": {},
   "outputs": [
    {
     "data": {
      "text/plain": [
       "47"
      ]
     },
     "execution_count": 7,
     "metadata": {},
     "output_type": "execute_result"
    }
   ],
   "source": [
    "len(dfToko[dfToko['tanggalBerdiri'] > datetime.datetime(2017,1,5)])"
   ]
  },
  {
   "cell_type": "code",
   "execution_count": 8,
   "metadata": {},
   "outputs": [],
   "source": [
    "dfKota.to_csv('dataKota.csv',index=False)\n",
    "dfToko.to_csv('dataToko.csv',index=False)"
   ]
  }
 ],
 "metadata": {
  "kernelspec": {
   "display_name": "Python 3",
   "language": "python",
   "name": "python3"
  },
  "language_info": {
   "codemirror_mode": {
    "name": "ipython",
    "version": 3
   },
   "file_extension": ".py",
   "mimetype": "text/x-python",
   "name": "python",
   "nbconvert_exporter": "python",
   "pygments_lexer": "ipython3",
   "version": "3.6.5"
  }
 },
 "nbformat": 4,
 "nbformat_minor": 2
}
